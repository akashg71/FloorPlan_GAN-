{
  "nbformat": 4,
  "nbformat_minor": 0,
  "metadata": {
    "colab": {
      "name": "colab_nootbook.ipynb",
      "provenance": [],
      "collapsed_sections": [
        "7Oe0yyJs8XqP",
        "pSQXLg4YodKB"
      ],
      "authorship_tag": "ABX9TyObNTUSmtbXPm/oSv/Kz48v",
      "include_colab_link": true
    },
    "kernelspec": {
      "name": "python3",
      "display_name": "Python 3"
    },
    "language_info": {
      "name": "python"
    }
  },
  "cells": [
    {
      "cell_type": "markdown",
      "metadata": {
        "id": "view-in-github",
        "colab_type": "text"
      },
      "source": [
        "<a href=\"https://colab.research.google.com/github/tejasbana/floorPlan/blob/main/colab_nootbook.ipynb\" target=\"_parent\"><img src=\"https://colab.research.google.com/assets/colab-badge.svg\" alt=\"Open In Colab\"/></a>"
      ]
    },
    {
      "cell_type": "code",
      "metadata": {
        "id": "SIRPodtgFzSC"
      },
      "source": [
        "# Pre trained weights\n",
        "!gdown --id 1c-c0f4zjQfZwykzRpTnc2rA0jnkfckdU\n",
        "!gdown --id 1FtmtF7hgLsXycCtH-TI6dwSpSTiG9g--"
      ],
      "execution_count": null,
      "outputs": []
    },
    {
      "cell_type": "code",
      "metadata": {
        "id": "jrflRhD_6d2V"
      },
      "source": [
        "!git clone https://github.com/tejasbana/floorPlan.git"
      ],
      "execution_count": null,
      "outputs": []
    },
    {
      "cell_type": "code",
      "metadata": {
        "id": "sZ6tX_WR6r81"
      },
      "source": [
        "!mv ./generator.pth ./floorPlan/\n",
        "!mv ./model_pickle.sav ./floorPlan/"
      ],
      "execution_count": 3,
      "outputs": []
    },
    {
      "cell_type": "markdown",
      "metadata": {
        "id": "AZlLzF7-8Uwp"
      },
      "source": [
        "# Run this (Flask)"
      ]
    },
    {
      "cell_type": "code",
      "metadata": {
        "id": "rWvTIhsDuUKc"
      },
      "source": [
        "# !mkdir templates\n",
        "%cd floorPlan/"
      ],
      "execution_count": null,
      "outputs": []
    },
    {
      "cell_type": "code",
      "metadata": {
        "id": "tQiHtGoAtrVE"
      },
      "source": [
        "# !pip install flask_uploads\n",
        "# !pip install -U Werkzeug==0.16.0\n",
        "!pip install flask_ngrok"
      ],
      "execution_count": null,
      "outputs": []
    },
    {
      "cell_type": "code",
      "metadata": {
        "id": "mdRnDafiHg_w"
      },
      "source": [
        "!pip install -r ./requirements.txt"
      ],
      "execution_count": null,
      "outputs": []
    },
    {
      "cell_type": "code",
      "metadata": {
        "id": "EjOQKSBjRbRR"
      },
      "source": [
        "!python colab_server.py"
      ],
      "execution_count": null,
      "outputs": []
    },
    {
      "cell_type": "code",
      "metadata": {
        "colab": {
          "base_uri": "https://localhost:8080/"
        },
        "id": "K5T1ImwX0SVI",
        "outputId": "fb8c80c4-2efb-492f-8362-1dc31da87379"
      },
      "source": [
        "# !python app.py"
      ],
      "execution_count": 9,
      "outputs": [
        {
          "output_type": "stream",
          "text": [
            "/usr/local/lib/python3.7/dist-packages/torchvision/transforms/transforms.py:258: UserWarning: Argument interpolation should be of type InterpolationMode instead of int. Please, use InterpolationMode enum.\n",
            "  \"Argument interpolation should be of type InterpolationMode instead of int. \"\n",
            "DONE\n"
          ],
          "name": "stdout"
        }
      ]
    },
    {
      "cell_type": "markdown",
      "metadata": {
        "id": "7Oe0yyJs8XqP"
      },
      "source": [
        "# Model 1\n"
      ]
    },
    {
      "cell_type": "code",
      "metadata": {
        "colab": {
          "base_uri": "https://localhost:8080/"
        },
        "id": "qryFC_Z7FlVd",
        "outputId": "87dbd33b-db05-4b71-d914-610db9537917"
      },
      "source": [
        "!python3 main.py"
      ],
      "execution_count": 2,
      "outputs": [
        {
          "output_type": "stream",
          "text": [
            "/usr/local/lib/python3.7/dist-packages/torchvision/transforms/transforms.py:258: UserWarning: Argument interpolation should be of type InterpolationMode instead of int. Please, use InterpolationMode enum.\n",
            "  \"Argument interpolation should be of type InterpolationMode instead of int. \"\n",
            "DONE\n"
          ],
          "name": "stdout"
        }
      ]
    },
    {
      "cell_type": "code",
      "metadata": {
        "id": "ameWTpl_GHKK"
      },
      "source": [
        "!pip3 freeze > requirements.txt"
      ],
      "execution_count": 25,
      "outputs": []
    },
    {
      "cell_type": "code",
      "metadata": {
        "colab": {
          "base_uri": "https://localhost:8080/"
        },
        "id": "4ZOlC-08HzAZ",
        "outputId": "0098b142-975c-4380-b92e-160463d64c3d"
      },
      "source": [
        "!pip install -r requirements.txt"
      ],
      "execution_count": 32,
      "outputs": [
        {
          "output_type": "stream",
          "text": [
            "Requirement already satisfied: numpy==1.19.5 in /usr/local/lib/python3.7/dist-packages (from -r requirements.txt (line 1)) (1.19.5)\n",
            "Requirement already satisfied: Pillow==7.1.2 in /usr/local/lib/python3.7/dist-packages (from -r requirements.txt (line 2)) (7.1.2)\n",
            "Requirement already satisfied: torch==1.8.1+cu101 in /usr/local/lib/python3.7/dist-packages (from -r requirements.txt (line 3)) (1.8.1+cu101)\n",
            "Requirement already satisfied: torchvision==0.9.1+cu101 in /usr/local/lib/python3.7/dist-packages (from -r requirements.txt (line 4)) (0.9.1+cu101)\n",
            "Requirement already satisfied: typing-extensions in /usr/local/lib/python3.7/dist-packages (from torch==1.8.1+cu101->-r requirements.txt (line 3)) (3.7.4.3)\n"
          ],
          "name": "stdout"
        }
      ]
    },
    {
      "cell_type": "code",
      "metadata": {
        "colab": {
          "base_uri": "https://localhost:8080/"
        },
        "id": "4DONGNoGMm_l",
        "outputId": "b44b1f0a-5e81-4162-c548-b434807a3030"
      },
      "source": [
        "!python --version"
      ],
      "execution_count": 34,
      "outputs": [
        {
          "output_type": "stream",
          "text": [
            "Python 3.7.10\n"
          ],
          "name": "stdout"
        }
      ]
    },
    {
      "cell_type": "markdown",
      "metadata": {
        "id": "pSQXLg4YodKB"
      },
      "source": [
        "# make model pickle file"
      ]
    },
    {
      "cell_type": "code",
      "metadata": {
        "colab": {
          "base_uri": "https://localhost:8080/"
        },
        "id": "uW0xAYjrovuP",
        "outputId": "fcf8fd8b-f33d-4de1-94ce-622cf341978e"
      },
      "source": [
        "from Model import UNet\n",
        "import torch\n",
        "model = UNet(True)\n",
        "model.load_state_dict(torch.load(\"./generator.pth\",map_location=torch.device('cpu')))\n"
      ],
      "execution_count": 19,
      "outputs": [
        {
          "output_type": "execute_result",
          "data": {
            "text/plain": [
              "<All keys matched successfully>"
            ]
          },
          "metadata": {
            "tags": []
          },
          "execution_count": 19
        }
      ]
    },
    {
      "cell_type": "code",
      "metadata": {
        "id": "jscrAe5cofV1"
      },
      "source": [
        "# save the model to disk\n",
        "import pickle\n",
        "filename = 'model_pickle.sav'\n",
        "pickle.dump(model, open(filename, 'wb'))\n",
        "\n"
      ],
      "execution_count": 21,
      "outputs": []
    },
    {
      "cell_type": "code",
      "metadata": {
        "id": "8BQMiW37ovIa"
      },
      "source": [
        "# some time later...\n",
        "\n",
        "# load the model from disk\n",
        "loaded_model = pickle.load(open(filename, 'rb'))"
      ],
      "execution_count": null,
      "outputs": []
    }
  ]
}